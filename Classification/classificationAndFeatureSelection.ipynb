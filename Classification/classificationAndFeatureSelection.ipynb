{
 "cells": [
  {
   "cell_type": "code",
   "execution_count": 6,
   "outputs": [],
   "source": [
    "# Train the classifiers with a K-Fold Cross Validation and perform feature selection\n",
    "# using a Univariate feature selection"
   ],
   "metadata": {
    "collapsed": false,
    "pycharm": {
     "name": "#%%\n"
    }
   }
  },
  {
   "cell_type": "code",
   "execution_count": 7,
   "outputs": [],
   "source": [
    "import pandas as pd\n",
    "df = pd.read_csv('../data/dataset_rebalanced.csv')"
   ],
   "metadata": {
    "collapsed": false,
    "pycharm": {
     "name": "#%%\n"
    }
   }
  },
  {
   "cell_type": "code",
   "execution_count": 8,
   "outputs": [],
   "source": [
    "df = df.replace({'Positive': 0, 'Negative': 1})"
   ],
   "metadata": {
    "collapsed": false,
    "pycharm": {
     "name": "#%%\n"
    }
   }
  },
  {
   "cell_type": "code",
   "execution_count": 9,
   "outputs": [],
   "source": [
    "X = df.iloc[:,:-1]\n",
    "y = pd.DataFrame(df['Sentiment'])"
   ],
   "metadata": {
    "collapsed": false,
    "pycharm": {
     "name": "#%%\n"
    }
   }
  },
  {
   "cell_type": "code",
   "execution_count": null,
   "outputs": [],
   "source": [
    "from sklearn.feature_selection import SelectKBest, f_classif\n",
    "import numpy as np\n",
    "from sklearn.model_selection import StratifiedKFold\n",
    "from sklearn.neural_network import MLPClassifier\n",
    "from sklearn.neighbors import KNeighborsClassifier\n",
    "from sklearn.svm import SVC\n",
    "from sklearn.gaussian_process import GaussianProcessClassifier\n",
    "from sklearn.gaussian_process.kernels import RBF\n",
    "from sklearn.tree import DecisionTreeClassifier\n",
    "from sklearn.ensemble import RandomForestClassifier, AdaBoostClassifier, GradientBoostingClassifier\n",
    "from sklearn.naive_bayes import GaussianNB\n",
    "from sklearn.discriminant_analysis import QuadraticDiscriminantAnalysis\n",
    "from sklearn.metrics import plot_confusion_matrix\n",
    "from sklearn.metrics import classification_report\n",
    "\n",
    "names = [\n",
    "    \"Gradient Boosting\",\n",
    "    \"Nearest Neighbors\",\n",
    "    \"Linear SVM\",\n",
    "    \"RBF SVM\",\n",
    "    \"Gaussian Process\",\n",
    "    \"Decision Tree\",\n",
    "    \"Random Forest\",\n",
    "    \"Neural Net\",\n",
    "    \"AdaBoost\",\n",
    "    \"Naive Bayes\",\n",
    "    \"QDA\",\n",
    "]\n",
    "\n",
    "classifiers = [\n",
    "    GradientBoostingClassifier(),\n",
    "    KNeighborsClassifier(3),\n",
    "    SVC(kernel=\"linear\", C=0.025),\n",
    "    SVC(gamma=2, C=1),\n",
    "    GaussianProcessClassifier(1.0 * RBF(1.0)),\n",
    "    DecisionTreeClassifier(max_depth=5),\n",
    "    RandomForestClassifier(max_depth=5, n_estimators=10, max_features=1),\n",
    "    MLPClassifier(alpha=1, max_iter=1001),\n",
    "    AdaBoostClassifier(),\n",
    "    GaussianNB(),\n",
    "    QuadraticDiscriminantAnalysis(),\n",
    "]\n",
    "\n",
    "def training(train, name, test, fold_no, model, y_train, y_test):\n",
    "    x_train = train\n",
    "    x_test = test\n",
    "    model.fit(x_train, y_train)\n",
    "    y_pred = model.predict(x_test)\n",
    "    plot_confusion_matrix(model, x_train,y_train)\n",
    "    report = classification_report(y_test, y_pred, output_dict=True)\n",
    "    df = pd.DataFrame(report).transpose()\n",
    "    df = pd.DataFrame(df.iloc[2,:]).transpose()\n",
    "    df2 = pd.DataFrame()\n",
    "    df2['Accuracy'] = df['precision']\n",
    "    df2['Algorithm'] = name\n",
    "    df2['FoldNo'] = fold_no\n",
    "    df2.to_csv('classification_report.csv', mode='a', header=False,index = False)\n",
    "\n",
    "\n",
    "for name, clf in zip(names, classifiers):\n",
    "    skf = StratifiedKFold(n_splits=10)\n",
    "    fold_no = 1\n",
    "    for train_index,test_index in skf.split(X, y):\n",
    "        train = X.iloc[train_index,:]\n",
    "        test = X.iloc[test_index,:]\n",
    "        y_train = y.iloc[train_index,:]\n",
    "        y_test = y.iloc[test_index,:]\n",
    "        selector = SelectKBest(f_classif, k=4)\n",
    "        selector.fit(train, y_train)\n",
    "        scores = -np.log10(selector.pvalues_)\n",
    "        scores[np.isnan(scores)] = 0\n",
    "        scores = scores / scores.max()\n",
    "        train = train.loc[:,train.columns[scores>=0.3]]\n",
    "        test = test[train.columns.values.tolist()]\n",
    "        training(train,name, test,fold_no, clf,y_train,y_test)\n",
    "        fold_no += 1"
   ],
   "metadata": {
    "collapsed": false,
    "pycharm": {
     "name": "#%%\n",
     "is_executing": true
    }
   }
  },
  {
   "cell_type": "code",
   "execution_count": 11,
   "outputs": [],
   "source": [
    "df = pd.read_csv('../data/dataset_rebalanced.csv')\n",
    "df = df.replace({'Positive': 0, 'Negative': 1})\n",
    "X = df.iloc[:, :-1]\n",
    "y = pd.DataFrame(df['Sentiment'])"
   ],
   "metadata": {
    "collapsed": false,
    "pycharm": {
     "name": "#%%\n"
    }
   }
  },
  {
   "cell_type": "code",
   "execution_count": null,
   "outputs": [],
   "source": [
    "import pickle\n",
    "\n",
    "model = GaussianProcessClassifier(1.0 * RBF(1.0))\n",
    "selector = SelectKBest(f_classif,k=4)\n",
    "selector.fit(X, y)\n",
    "scores = -np.log10(selector.pvalues_)\n",
    "scores[np.isnan(scores)] = 0\n",
    "scores = scores / scores.max()\n",
    "X = X.loc[:,X.columns[scores>=0.3]]\n",
    "model = model.fit(X,y)\n",
    "\n",
    "# save the trained model to the disk\n",
    "filename = 'GaussianProcess.pkl'\n",
    "pickle.dump(model, open(filename, 'wb'))"
   ],
   "metadata": {
    "collapsed": false,
    "pycharm": {
     "name": "#%%\n",
     "is_executing": true
    }
   }
  }
 ],
 "metadata": {
  "kernelspec": {
   "display_name": "Python 3 (ipykernel)",
   "language": "python",
   "name": "python3"
  },
  "language_info": {
   "codemirror_mode": {
    "name": "ipython",
    "version": 3
   },
   "file_extension": ".py",
   "mimetype": "text/x-python",
   "name": "python",
   "nbconvert_exporter": "python",
   "pygments_lexer": "ipython3",
   "version": "3.9.7"
  }
 },
 "nbformat": 4,
 "nbformat_minor": 5
}