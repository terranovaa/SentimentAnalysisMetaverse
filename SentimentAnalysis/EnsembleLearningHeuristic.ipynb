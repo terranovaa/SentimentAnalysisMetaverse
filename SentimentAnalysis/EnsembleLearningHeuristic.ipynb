{
 "cells": [
  {
   "cell_type": "code",
   "execution_count": 1,
   "outputs": [],
   "source": [
    "# Determine the overall class as the result of the following operation:\n",
    "# (ClassP&S || ClassSIA) && ClassGaussianProcess"
   ],
   "metadata": {
    "collapsed": false,
    "pycharm": {
     "name": "#%%\n"
    }
   }
  },
  {
   "cell_type": "code",
   "execution_count": 5,
   "outputs": [
    {
     "data": {
      "text/plain": "                    Datetime             Tweet Id  \\\n0  2021-10-27 23:59:51+00:00  1453511793758797828   \n1  2021-10-27 23:57:13+00:00  1453511131331534853   \n2  2021-10-27 23:56:51+00:00  1453511038348009476   \n\n                                                Text     Username  \\\n0  @WuBlockchain #BlockchainNative #Metaverse #NF...   Cranehehe1   \n1  Get in on this before tomorrow, #NFT #NFTCommm...  VinceBernal   \n2  @metamonstersnft Get in on this before tomorro...  VinceBernal   \n\n                                        Text_Cleaned  \\\n0  because they donlearn the second law of hacker...   \n1                     get in on this before tomorrow   \n2                     get in on this before tomorrow   \n\n                                    tokens                 tokens_text  \\\n0  ['donlearn', 'second', 'law', 'hacker']  donlearn second law hacker   \n1                      ['get', 'tomorrow']                get tomorrow   \n2                      ['get', 'tomorrow']                get tomorrow   \n\n   GaussianProcess  \n0                1  \n1                1  \n2                1  ",
      "text/html": "<div>\n<style scoped>\n    .dataframe tbody tr th:only-of-type {\n        vertical-align: middle;\n    }\n\n    .dataframe tbody tr th {\n        vertical-align: top;\n    }\n\n    .dataframe thead th {\n        text-align: right;\n    }\n</style>\n<table border=\"1\" class=\"dataframe\">\n  <thead>\n    <tr style=\"text-align: right;\">\n      <th></th>\n      <th>Datetime</th>\n      <th>Tweet Id</th>\n      <th>Text</th>\n      <th>Username</th>\n      <th>Text_Cleaned</th>\n      <th>tokens</th>\n      <th>tokens_text</th>\n      <th>GaussianProcess</th>\n    </tr>\n  </thead>\n  <tbody>\n    <tr>\n      <th>0</th>\n      <td>2021-10-27 23:59:51+00:00</td>\n      <td>1453511793758797828</td>\n      <td>@WuBlockchain #BlockchainNative #Metaverse #NF...</td>\n      <td>Cranehehe1</td>\n      <td>because they donlearn the second law of hacker...</td>\n      <td>['donlearn', 'second', 'law', 'hacker']</td>\n      <td>donlearn second law hacker</td>\n      <td>1</td>\n    </tr>\n    <tr>\n      <th>1</th>\n      <td>2021-10-27 23:57:13+00:00</td>\n      <td>1453511131331534853</td>\n      <td>Get in on this before tomorrow, #NFT #NFTCommm...</td>\n      <td>VinceBernal</td>\n      <td>get in on this before tomorrow</td>\n      <td>['get', 'tomorrow']</td>\n      <td>get tomorrow</td>\n      <td>1</td>\n    </tr>\n    <tr>\n      <th>2</th>\n      <td>2021-10-27 23:56:51+00:00</td>\n      <td>1453511038348009476</td>\n      <td>@metamonstersnft Get in on this before tomorro...</td>\n      <td>VinceBernal</td>\n      <td>get in on this before tomorrow</td>\n      <td>['get', 'tomorrow']</td>\n      <td>get tomorrow</td>\n      <td>1</td>\n    </tr>\n  </tbody>\n</table>\n</div>"
     },
     "execution_count": 5,
     "metadata": {},
     "output_type": "execute_result"
    }
   ],
   "source": [
    "import pandas as pd\n",
    "f_data = pd.read_csv('../data/dataset_post_textBlob_and_Sia.csv')\n",
    "f_data2 = pd.read_csv('../data/dataset_post_classification.csv')\n",
    "f_data2.head(3)"
   ],
   "metadata": {
    "collapsed": false,
    "pycharm": {
     "name": "#%%\n"
    }
   }
  },
  {
   "cell_type": "code",
   "execution_count": 6,
   "outputs": [],
   "source": [
    "f_data['Class'] = f_data2['GaussianProcess']"
   ],
   "metadata": {
    "collapsed": false,
    "pycharm": {
     "name": "#%%\n"
    }
   }
  },
  {
   "cell_type": "code",
   "execution_count": 7,
   "outputs": [],
   "source": [
    "f_dataneg = f_data[((f_data['P&SSentiment'] == \"Negative\") | (f_data['SIA Negative Sentiment'] > f_data['SIA Positive Sentiment'])) & (f_data['Class'] == 1)]"
   ],
   "metadata": {
    "collapsed": false,
    "pycharm": {
     "name": "#%%\n"
    }
   }
  },
  {
   "cell_type": "code",
   "execution_count": 8,
   "outputs": [],
   "source": [
    "f_datapos = f_data[((f_data['P&SSentiment'] == \"Positive\") | (f_data['SIA Negative Sentiment'] < f_data['SIA Positive Sentiment'])) & (f_data['Class'] == 0)]"
   ],
   "metadata": {
    "collapsed": false,
    "pycharm": {
     "name": "#%%\n"
    }
   }
  },
  {
   "cell_type": "code",
   "execution_count": 18,
   "outputs": [],
   "source": [
    "f_datapos.to_csv(\"../data/positive_post_rebalancing.csv\",index=False)"
   ],
   "metadata": {
    "collapsed": false,
    "pycharm": {
     "name": "#%%\n"
    }
   }
  },
  {
   "cell_type": "code",
   "execution_count": 19,
   "outputs": [],
   "source": [
    "f_dataneg.to_csv(\"../data/negative_post_rebalancing.csv\",index=False)"
   ],
   "metadata": {
    "collapsed": false,
    "pycharm": {
     "name": "#%%\n"
    }
   }
  }
 ],
 "metadata": {
  "kernelspec": {
   "display_name": "Python 3",
   "language": "python",
   "name": "python3"
  },
  "language_info": {
   "codemirror_mode": {
    "name": "ipython",
    "version": 2
   },
   "file_extension": ".py",
   "mimetype": "text/x-python",
   "name": "python",
   "nbconvert_exporter": "python",
   "pygments_lexer": "ipython2",
   "version": "2.7.6"
  }
 },
 "nbformat": 4,
 "nbformat_minor": 0
}